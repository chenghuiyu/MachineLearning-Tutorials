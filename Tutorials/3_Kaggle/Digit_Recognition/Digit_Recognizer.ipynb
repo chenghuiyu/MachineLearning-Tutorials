{
 "cells": [
  {
   "cell_type": "markdown",
   "metadata": {
    "collapsed": true
   },
   "source": [
    "### digit-recognizer"
   ]
  },
  {
   "cell_type": "code",
   "execution_count": 1,
   "metadata": {
    "collapsed": true
   },
   "outputs": [],
   "source": [
    "from __future__ import division, print_function, absolute_import\n",
    "import numpy as np\n",
    "import csv\n",
    "import operator"
   ]
  },
  {
   "cell_type": "code",
   "execution_count": 2,
   "metadata": {
    "collapsed": true
   },
   "outputs": [],
   "source": [
    "#定义函数，将字符串转换为整数\n",
    "def ArrayToInt(array):\n",
    "    Array = np.mat(array)\n",
    "    rows, columns = np.shape(array)\n",
    "    newArray = np.zeros((rows, columns))\n",
    "    for i in range(rows):\n",
    "        for j in range(columns):\n",
    "            newArray[i, j] = np.int(array[i, j])\n",
    "    return newArray"
   ]
  },
  {
   "cell_type": "code",
   "execution_count": 3,
   "metadata": {
    "collapsed": true
   },
   "outputs": [],
   "source": [
    "#归一化\n",
    "def Normalizer(array):\n",
    "    rows, columns = np.shape(array)\n",
    "    for i in range(rows):\n",
    "        for j in range(columns):\n",
    "            if array[i, j] != 0 :\n",
    "                array[i, j] = 1\n",
    "    return array"
   ]
  },
  {
   "cell_type": "code",
   "execution_count": 11,
   "metadata": {
    "collapsed": true
   },
   "outputs": [],
   "source": [
    "#加载training数据\n",
    "def LoadTrainData():\n",
    "    train_data = []\n",
    "    with open('/tmp/data_input/kaggle/Digit_Recognition/train.csv') as file:\n",
    "        datas = csv.reader(file)\n",
    "        for data in datas:\n",
    "            train_data.append(data)\n",
    "    train_data = np.array(train_data[1:])\n",
    "    train_data = np.array(train_data)\n",
    "    labels = train_data[:, 0]\n",
    "    train_datas = train_data[:, 1:]\n",
    "    \n",
    "    results = Normalizer(ArrayToInt(labels), ArrayToInt(train_datas))\n",
    "    return results"
   ]
  },
  {
   "cell_type": "code",
   "execution_count": 12,
   "metadata": {},
   "outputs": [
    {
     "ename": "ValueError",
     "evalue": "not enough values to unpack (expected 2, got 1)",
     "output_type": "error",
     "traceback": [
      "\u001b[0;31m---------------------------------------------------------------------------\u001b[0m",
      "\u001b[0;31mValueError\u001b[0m                                Traceback (most recent call last)",
      "\u001b[0;32m<ipython-input-12-19fc6e049823>\u001b[0m in \u001b[0;36m<module>\u001b[0;34m()\u001b[0m\n\u001b[0;32m----> 1\u001b[0;31m \u001b[0mtrain_data\u001b[0m \u001b[0;34m=\u001b[0m \u001b[0mLoadTrainData\u001b[0m\u001b[0;34m(\u001b[0m\u001b[0;34m)\u001b[0m\u001b[0;34m\u001b[0m\u001b[0m\n\u001b[0m\u001b[1;32m      2\u001b[0m \u001b[0mtrain_data\u001b[0m\u001b[0;34m\u001b[0m\u001b[0m\n",
      "\u001b[0;32m<ipython-input-11-2b010629f865>\u001b[0m in \u001b[0;36mLoadTrainData\u001b[0;34m()\u001b[0m\n\u001b[1;32m     11\u001b[0m     \u001b[0mtrain_datas\u001b[0m \u001b[0;34m=\u001b[0m \u001b[0mtrain_data\u001b[0m\u001b[0;34m[\u001b[0m\u001b[0;34m:\u001b[0m\u001b[0;34m,\u001b[0m \u001b[0;36m1\u001b[0m\u001b[0;34m:\u001b[0m\u001b[0;34m]\u001b[0m\u001b[0;34m\u001b[0m\u001b[0m\n\u001b[1;32m     12\u001b[0m \u001b[0;34m\u001b[0m\u001b[0m\n\u001b[0;32m---> 13\u001b[0;31m     \u001b[0mresults\u001b[0m \u001b[0;34m=\u001b[0m \u001b[0mNormalizer\u001b[0m\u001b[0;34m(\u001b[0m\u001b[0mArrayToInt\u001b[0m\u001b[0;34m(\u001b[0m\u001b[0mlabels\u001b[0m\u001b[0;34m)\u001b[0m\u001b[0;34m,\u001b[0m \u001b[0mArrayToInt\u001b[0m\u001b[0;34m(\u001b[0m\u001b[0mtrain_datas\u001b[0m\u001b[0;34m)\u001b[0m\u001b[0;34m)\u001b[0m\u001b[0;34m\u001b[0m\u001b[0m\n\u001b[0m\u001b[1;32m     14\u001b[0m     \u001b[0;32mreturn\u001b[0m \u001b[0mresults\u001b[0m\u001b[0;34m\u001b[0m\u001b[0m\n",
      "\u001b[0;32m<ipython-input-2-821ec735f14e>\u001b[0m in \u001b[0;36mArrayToInt\u001b[0;34m(array)\u001b[0m\n\u001b[1;32m      2\u001b[0m \u001b[0;32mdef\u001b[0m \u001b[0mArrayToInt\u001b[0m\u001b[0;34m(\u001b[0m\u001b[0marray\u001b[0m\u001b[0;34m)\u001b[0m\u001b[0;34m:\u001b[0m\u001b[0;34m\u001b[0m\u001b[0m\n\u001b[1;32m      3\u001b[0m     \u001b[0mArray\u001b[0m \u001b[0;34m=\u001b[0m \u001b[0mnp\u001b[0m\u001b[0;34m.\u001b[0m\u001b[0mmat\u001b[0m\u001b[0;34m(\u001b[0m\u001b[0marray\u001b[0m\u001b[0;34m)\u001b[0m\u001b[0;34m\u001b[0m\u001b[0m\n\u001b[0;32m----> 4\u001b[0;31m     \u001b[0mrows\u001b[0m\u001b[0;34m,\u001b[0m \u001b[0mcolumns\u001b[0m \u001b[0;34m=\u001b[0m \u001b[0mnp\u001b[0m\u001b[0;34m.\u001b[0m\u001b[0mshape\u001b[0m\u001b[0;34m(\u001b[0m\u001b[0marray\u001b[0m\u001b[0;34m)\u001b[0m\u001b[0;34m\u001b[0m\u001b[0m\n\u001b[0m\u001b[1;32m      5\u001b[0m     \u001b[0mnewArray\u001b[0m \u001b[0;34m=\u001b[0m \u001b[0mnp\u001b[0m\u001b[0;34m.\u001b[0m\u001b[0mzeros\u001b[0m\u001b[0;34m(\u001b[0m\u001b[0;34m(\u001b[0m\u001b[0mrows\u001b[0m\u001b[0;34m,\u001b[0m \u001b[0mcolumns\u001b[0m\u001b[0;34m)\u001b[0m\u001b[0;34m)\u001b[0m\u001b[0;34m\u001b[0m\u001b[0m\n\u001b[1;32m      6\u001b[0m     \u001b[0;32mfor\u001b[0m \u001b[0mi\u001b[0m \u001b[0;32min\u001b[0m \u001b[0mrange\u001b[0m\u001b[0;34m(\u001b[0m\u001b[0mrows\u001b[0m\u001b[0;34m)\u001b[0m\u001b[0;34m:\u001b[0m\u001b[0;34m\u001b[0m\u001b[0m\n",
      "\u001b[0;31mValueError\u001b[0m: not enough values to unpack (expected 2, got 1)"
     ]
    }
   ],
   "source": [
    "train_data = LoadTrainData()\n",
    "train_data"
   ]
  },
  {
   "cell_type": "code",
   "execution_count": 5,
   "metadata": {
    "collapsed": true
   },
   "outputs": [],
   "source": [
    "#加载test数据\n",
    "def LoadTestData():\n",
    "    test_data = []\n",
    "    with open('/tmp/data_input/kaggle/Digit_Recognition/test.csv') as file:\n",
    "        datas = csv.reader(file)\n",
    "        for data in datas:\n",
    "            test_data.append(data)\n",
    "    test_data.remove(test_data[0])\n",
    "    test_data = np.array(test_data)\n",
    "    \n",
    "    results = Normalizer(ArrayToInt(test_data))\n",
    "    return results"
   ]
  },
  {
   "cell_type": "code",
   "execution_count": 6,
   "metadata": {
    "collapsed": true
   },
   "outputs": [],
   "source": [
    "def LoadTestResult():\n",
    "    test_labels = []\n",
    "    with open('/tmp/data_input/kaggle/Digit_Recognition/ample_submission.csv') as file:\n",
    "        datas = csv.reader(file)\n",
    "        for data in datas:\n",
    "            test_labels.append(data)\n",
    "    test_labels.remove(test_labels[0])\n",
    "    test_labels = np.array(test_labels)\n",
    "    \n",
    "    results = ArrayToInt(test_labels[:, 1])\n",
    "    "
   ]
  },
  {
   "cell_type": "code",
   "execution_count": 7,
   "metadata": {
    "collapsed": true
   },
   "outputs": [],
   "source": [
    "#处理\n",
    "def Classifier(intX, dataSet, labels, k):\n",
    "    intX = np.mat(intX)\n",
    "    dataSet = np.mat(dataSet)\n",
    "    labels = np.mat(labels)\n",
    "    dataSet_size = dataSet.shape[0]\n",
    "    \n",
    "    diffmat = np.tile(intX, (dataSet_size, 1)) - dataSet\n",
    "    sqdiffmat = np.power(sqdiffmat, 2)\n",
    "    sqDistances = np.sum(sqdiffmat, axis=1)\n",
    "    distances = np.sqrt(sqDistances)\n",
    "    sortedDistances = np.argsort(distances)\n",
    "    \n",
    "    classcount = {}\n",
    "    \n",
    "    for i in range(k):\n",
    "        voteIlabel = labels[sortedDistances[i], 0]\n",
    "        classcount[voteIlabel] = classcount.get(voteIlabel, 0) + 1\n",
    "        \n",
    "    sortclasscount = sorted(classcount.iteritems(), key=operator.itemgetter(1), reverse=True)\n",
    "    return sortclasscount[0][0]\n",
    "    "
   ]
  },
  {
   "cell_type": "code",
   "execution_count": 8,
   "metadata": {
    "collapsed": true
   },
   "outputs": [],
   "source": [
    "#保存处理结果\n",
    "def SaveResults(results):\n",
    "    data = []\n",
    "    with open('/tmp/data_output/kaggle/Digit_Recognition/result.csv', 'wb') as file:\n",
    "        writer = csv.writer(file)\n",
    "        for result in results:\n",
    "            data.append(result)\n",
    "            writer.writerrow(data)\n",
    "    "
   ]
  },
  {
   "cell_type": "code",
   "execution_count": 9,
   "metadata": {
    "collapsed": true
   },
   "outputs": [],
   "source": [
    "def HandWritingClassifier():\n",
    "    train_data, train_labels = LoadTrainData()\n",
    "    test_data = LoadTestData()\n",
    "    test_label = LoadTestResult()\n",
    "    rows, columns = np.shape(test_data)\n",
    "    error_count = 0\n",
    "    resultList = []\n",
    "    for i in rows:\n",
    "        classcifierresults = Classifier(test_data[i], train_data, train_labels.transpose(), 5)\n",
    "        resultList.append(classcifierresults)\n",
    "        print (\"The classifier result is %s , the real result is %s\" % classcifierresults, test_label[0, i])\n",
    "        \n",
    "        if(classcifierresults != test_label[0, i]):\n",
    "            error_count =+ 1.0\n",
    "            \n",
    "    print(\"The total error is %s\" % error_count)\n",
    "    SaveResults(resultList)"
   ]
  },
  {
   "cell_type": "code",
   "execution_count": null,
   "metadata": {
    "collapsed": true
   },
   "outputs": [],
   "source": []
  }
 ],
 "metadata": {
  "kernelspec": {
   "display_name": "Python 3",
   "language": "python",
   "name": "python3"
  },
  "language_info": {
   "codemirror_mode": {
    "name": "ipython",
    "version": 3
   },
   "file_extension": ".py",
   "mimetype": "text/x-python",
   "name": "python",
   "nbconvert_exporter": "python",
   "pygments_lexer": "ipython3",
   "version": "3.6.3"
  }
 },
 "nbformat": 4,
 "nbformat_minor": 2
}
